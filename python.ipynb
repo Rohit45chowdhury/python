{
 "cells": [
  {
   "cell_type": "code",
   "execution_count": 1,
   "id": "eb946eeb",
   "metadata": {},
   "outputs": [
    {
     "name": "stdout",
     "output_type": "stream",
     "text": [
      "hello\n"
     ]
    }
   ],
   "source": [
    "print(\"hello\")"
   ]
  },
  {
   "cell_type": "markdown",
   "id": "3c378ed9",
   "metadata": {},
   "source": [
    "1 variable"
   ]
  },
  {
   "cell_type": "code",
   "execution_count": 2,
   "id": "4918748e",
   "metadata": {},
   "outputs": [
    {
     "name": "stdout",
     "output_type": "stream",
     "text": [
      "rohit\n",
      "17\n",
      "5.6\n",
      "False\n",
      "True\n"
     ]
    }
   ],
   "source": [
    "Name=\"rohit\"\n",
    "Age=17\n",
    "Height=5.6\n",
    "Married=False\n",
    "Student=True\n",
    "\n",
    "print(Name)\n",
    "print(Age)\n",
    "print(Height)\n",
    "print(Married)\n",
    "print(Student)"
   ]
  },
  {
   "cell_type": "markdown",
   "id": "66928915",
   "metadata": {},
   "source": [
    "2 DATA TYPES"
   ]
  },
  {
   "cell_type": "code",
   "execution_count": 3,
   "id": "03dd06d2",
   "metadata": {},
   "outputs": [
    {
     "name": "stdout",
     "output_type": "stream",
     "text": [
      "{90, 91, 92, 93, 94}\n",
      "('rohit', 17, 5.6, {90, 91, 92, 93, 94}, True)\n",
      "['banana', 'apple', 'graps']\n"
     ]
    }
   ],
   "source": [
    "marks={90,91,92,93,94} #set\n",
    "biodata=(Name,Age,Height,marks,Student) #Tuple\n",
    "fruit=['banana','apple','graps'] #list\n",
    "\n",
    "print(marks)\n",
    "print(biodata)\n",
    "print(fruit)"
   ]
  },
  {
   "cell_type": "markdown",
   "id": "ee67b7ce",
   "metadata": {},
   "source": [
    "3 STRINGS"
   ]
  },
  {
   "cell_type": "code",
   "execution_count": 4,
   "id": "76b7b638",
   "metadata": {},
   "outputs": [
    {
     "name": "stdout",
     "output_type": "stream",
     "text": [
      "P\n",
      "y\n",
      "n\n",
      "radhe radhe\n",
      "python\n",
      "programing\n",
      "python\n",
      "gnimargorp nohtyp\n",
      "PYTHON PROGRAMING\n",
      "python programing\n",
      "7\n",
      "java programing\n",
      "['python', 'programing']\n",
      "my name is rohit and I am 17 years old\n"
     ]
    }
   ],
   "source": [
    "single_quated_string='radhe','radhe'\n",
    "double_quated_string='python programing'\n",
    "multiple_quated_string='this is a multiple line'\n",
    "\n",
    "my_string='Python'\n",
    "print(my_string[0])\n",
    "print(my_string[1])\n",
    "print(my_string[-1])\n",
    "\n",
    "\n",
    "#concatinating(ADD)\n",
    "str1='radhe'\n",
    "str2='radhe'\n",
    "concatinating=str1+\" \"+str2\n",
    "print(concatinating)\n",
    "\n",
    "\n",
    "my_str=\"python programing\"\n",
    "print(my_str[0:6])\n",
    "print(my_str[7:])\n",
    "print(my_str[:6])\n",
    "print(my_str[::-1]) # reverse word\n",
    "\n",
    "\n",
    "print(my_str.upper())\n",
    "print(my_str.lower())\n",
    "print(my_str.find('pro'))\n",
    "print(my_str.replace('python','java'))\n",
    "print(my_str.split())\n",
    "\n",
    "\n",
    "formated_str=f'my name is {Name} and I am {Age} years old'\n",
    "print(formated_str)\n"
   ]
  },
  {
   "cell_type": "markdown",
   "id": "f80f7e94",
   "metadata": {},
   "source": [
    "4 INTIGER IN PYTHON"
   ]
  },
  {
   "cell_type": "code",
   "execution_count": 5,
   "id": "e9e958ca",
   "metadata": {},
   "outputs": [
    {
     "name": "stdout",
     "output_type": "stream",
     "text": [
      "15\n",
      "243\n",
      "0.6\n",
      "0\n",
      "3\n",
      "8\n",
      "-2\n"
     ]
    }
   ],
   "source": [
    "x=3\n",
    "y=5\n",
    "\n",
    "print(x*y) # multiple\n",
    "print(x**y) # exponentiation\n",
    "print(x/y) # division in float\n",
    "print(x//y) # divison in intiger\n",
    "print(x%y)  # modulus\n",
    "print(x+y) # add\n",
    "print(x-y) # subtract\n"
   ]
  },
  {
   "cell_type": "markdown",
   "id": "b6b054d8",
   "metadata": {},
   "source": [
    "5 FLOATS "
   ]
  },
  {
   "cell_type": "code",
   "execution_count": 6,
   "id": "82faa5a9",
   "metadata": {},
   "outputs": [
    {
     "name": "stdout",
     "output_type": "stream",
     "text": [
      "24.75\n",
      "2146.0117856117135\n",
      "1.2222222222222223\n",
      "1.0\n",
      "1.0\n",
      "10.0\n",
      "1.0\n",
      "3.5\n"
     ]
    }
   ],
   "source": [
    "x=5.5\n",
    "y=4.5\n",
    "\n",
    "print(x*y) # multiple\n",
    "print(x**y) # exponentiation\n",
    "print(x/y) # division in float\n",
    "print(x//y) # divison in intiger\n",
    "print(x%y)  # modulus\n",
    "print(x+y) # add\n",
    "print(x-y) # subtract\n",
    "\n",
    "num_str=\"3.5\"\n",
    "convert_float=float(num_str)\n",
    "print(convert_float)"
   ]
  },
  {
   "cell_type": "markdown",
   "id": "94995ec6",
   "metadata": {},
   "source": [
    "6. BOOLEAN AND NONTYPE"
   ]
  },
  {
   "cell_type": "code",
   "execution_count": 7,
   "id": "12ca5ba0",
   "metadata": {},
   "outputs": [
    {
     "name": "stdout",
     "output_type": "stream",
     "text": [
      "True\n",
      "False\n",
      "None\n",
      "False\n",
      "True\n",
      "False\n",
      "False\n",
      "True\n"
     ]
    }
   ],
   "source": [
    "is_greater=10>5\n",
    "print(is_greater)\n",
    "\n",
    "is_equal=10==5\n",
    "print(is_equal)\n",
    "\n",
    "empty=None\n",
    "print(empty)\n",
    "\n",
    "bool_value1=bool(0)\n",
    "bool_value2=bool(10)\n",
    "bool_value3=bool(None)\n",
    "bool_value4=bool([])\n",
    "bool_value5=bool('hello')\n",
    "print(bool_value1)\n",
    "print(bool_value2)\n",
    "print(bool_value3)\n",
    "print(bool_value4)\n",
    "print(bool_value5)"
   ]
  },
  {
   "cell_type": "markdown",
   "id": "9cfeb732",
   "metadata": {},
   "source": [
    "7. DATA TYPE IN PYTHON"
   ]
  },
  {
   "cell_type": "markdown",
   "id": "40a1b93d",
   "metadata": {},
   "source": [
    "1. LISTS"
   ]
  },
  {
   "cell_type": "code",
   "execution_count": 8,
   "id": "2e393ed9",
   "metadata": {},
   "outputs": [
    {
     "name": "stdout",
     "output_type": "stream",
     "text": [
      "['apple', 'banana', 'hello', 'world']\n",
      "[1, 'hello', [3, 4, 5], 'world']\n",
      "apple\n",
      "banana\n",
      "hello\n",
      "world\n",
      "world\n",
      "['banana', 'hello']\n",
      "['apple', 'banana']\n",
      "['hello', 'world']\n",
      "['apple', 'banana', 'hello', 'world', 'virat']\n",
      "['apple', 'banana', 'world', 'virat']\n",
      "[1, 2, 3, 4, 5, 6]\n",
      "[1, 2, 3, 1, 2, 3, 1, 2, 3]\n",
      "3\n"
     ]
    }
   ],
   "source": [
    "# lists\n",
    "my_list=['apple','banana','hello','world']\n",
    "print(my_list)\n",
    "\n",
    "# nested lists\n",
    "nested_list=[1,'hello',[3,4,5],'world']\n",
    "print(nested_list)\n",
    "\n",
    "print(my_list[0])\n",
    "print(my_list[1])\n",
    "print(my_list[2])\n",
    "print(my_list[3])\n",
    "print(my_list[-1])\n",
    "\n",
    "print(my_list[1:3])\n",
    "print(my_list[:2])\n",
    "print(my_list[2:])\n",
    "\n",
    "# adding in lists\n",
    "my_list.append('virat')\n",
    "print(my_list)\n",
    "\n",
    "# removing\n",
    "my_list.remove('hello')\n",
    "print(my_list)\n",
    "\n",
    "\n",
    "list1=[1,2,3]\n",
    "list2=[4,5,6]\n",
    "\n",
    "# add two lists\n",
    "concate_list=list1+list2\n",
    "print(concate_list)\n",
    "\n",
    "# repeating lists\n",
    "repeated_list=list1*3\n",
    "print(repeated_list)\n",
    "\n",
    "# lenght of lists\n",
    "length_list=len(list1)\n",
    "print(length_list)"
   ]
  },
  {
   "cell_type": "markdown",
   "id": "769e8530",
   "metadata": {},
   "source": [
    "2.DICTIONARY"
   ]
  },
  {
   "cell_type": "code",
   "execution_count": 9,
   "id": "9d014fbf",
   "metadata": {},
   "outputs": [
    {
     "name": "stdout",
     "output_type": "stream",
     "text": [
      "{'is_student:true', 'age:17', 'name: rohit'}\n",
      "{'name': 'rohit', 'age': 17, 'marks': [91, 92, 93, 94], 'is_student': True}\n",
      "rohit\n",
      "[91, 92, 93, 94]\n",
      "26\n",
      "siwan\n",
      "{'name': 'rohit', 'age': 26, 'marks': [91, 92, 93, 94], 'address': 'siwan'}\n",
      "siwan\n",
      "{'name': 'rohit', 'age': 26, 'marks': [91, 92, 93, 94]}\n"
     ]
    }
   ],
   "source": [
    "# dictionary\n",
    "my_dict={'name: rohit','age:17','is_student:true'}\n",
    "print(my_dict)\n",
    "\n",
    "details={\n",
    " \"name\":\"rohit\",\n",
    " \"age\":17,\n",
    " \"marks\":[91,92,93,94],\n",
    " \"is_student\":True\n",
    "}\n",
    "print(details)\n",
    "print(details['name'])\n",
    "print(details['marks'])\n",
    "\n",
    "# modify \n",
    "details['age']=26\n",
    "print(details['age'])\n",
    "\n",
    "# adding\n",
    "details['address']='siwan'\n",
    "print(details['address'])\n",
    "\n",
    "# removing\n",
    "del details['is_student']\n",
    "print(details)\n",
    "address=details.pop('address')\n",
    "print(address)\n",
    "print(details)\n"
   ]
  },
  {
   "cell_type": "markdown",
   "id": "d659a95e",
   "metadata": {},
   "source": [
    "3. SETS"
   ]
  },
  {
   "cell_type": "code",
   "execution_count": 10,
   "id": "5ea90b23",
   "metadata": {},
   "outputs": [
    {
     "name": "stdout",
     "output_type": "stream",
     "text": [
      "{1, 2, 3, 4}\n",
      "{1, 2, 3, 4, 6}\n",
      "{1, 2, 3, 4, 6, 7, 8, 9}\n",
      "{1, 2, 3, 4, 7, 8, 9}\n",
      "{1, 2, 3, 4, 7, 9}\n",
      "1 {2, 3, 4, 7, 9}\n",
      "{1, 2, 3, 4, 5, 6}\n",
      "{3, 4}\n",
      "{1, 2}\n"
     ]
    }
   ],
   "source": [
    "# sets\n",
    "my_set={1,2,3,3,2,4}\n",
    "print(my_set)\n",
    "\n",
    "# add\n",
    "my_set.add(6)\n",
    "print(my_set)\n",
    "\n",
    "# update\n",
    "my_set.update([7,8,9])\n",
    "print(my_set)\n",
    "\n",
    "# remove\n",
    "my_set.remove(6)\n",
    "print(my_set)\n",
    "\n",
    "# discard\n",
    "my_set.discard(8)\n",
    "print(my_set)\n",
    "\n",
    "# pop\n",
    "pop_element=my_set.pop()\n",
    "print(pop_element,my_set)\n",
    "\n",
    "\n",
    "set1={1,2,3,4}\n",
    "set2={3,4,5,6}\n",
    "\n",
    "# union of set\n",
    "union_set=set1|set2\n",
    "print(union_set)\n",
    "\n",
    "# intersection\n",
    "intersection=set1 & set2\n",
    "print(intersection)\n",
    "\n",
    "# difference\n",
    "difference=set1-set2\n",
    "print(difference)\n"
   ]
  },
  {
   "cell_type": "markdown",
   "id": "c0120a5a",
   "metadata": {},
   "source": [
    "4. TOUPLES"
   ]
  },
  {
   "cell_type": "code",
   "execution_count": 11,
   "id": "cb31c6c9",
   "metadata": {},
   "outputs": [
    {
     "name": "stdout",
     "output_type": "stream",
     "text": [
      "(1, 'hello', (2, 3, 4), 'world')\n",
      "apple\n",
      "banana\n",
      "cherry\n",
      "cherry\n",
      "('banana', 'cherry')\n",
      "('apple', 'banana')\n",
      "('cherry',)\n",
      "(1, 2, 3, 4, 5, 6)\n",
      "(1, 2, 3, 1, 2, 3)\n",
      "3\n",
      "2\n",
      "4\n",
      "rohit\n",
      "17\n",
      "siwan\n"
     ]
    }
   ],
   "source": [
    "# touples\n",
    "my_touples=('apple','banana','cherry')\n",
    "mixed_touples=(\"apple\",3.14,True)\n",
    "nested_touples=(1,'hello',(2,3,4),'world')\n",
    "print(nested_touples)\n",
    "\n",
    "\n",
    "print(my_touples[0])\n",
    "print(my_touples[1])\n",
    "print(my_touples[2])\n",
    "print(my_touples[-1])\n",
    "\n",
    "\n",
    "print(my_touples[1:3])\n",
    "print(my_touples[:2])\n",
    "print(my_touples[2:])\n",
    "\n",
    "\n",
    "touple1=(1,2,3)\n",
    "touple2=(4,5,6)\n",
    "\n",
    "# add\n",
    "concate_touples=touple1+touple2\n",
    "print(concate_touples)\n",
    "\n",
    "\n",
    "# repeated\n",
    "repeated_touple=touple1*2\n",
    "print(repeated_touple)\n",
    "\n",
    "\n",
    "# lenght\n",
    "length_touples=len(touple1)\n",
    "print(length_touples)\n",
    "\n",
    "\n",
    "# find\n",
    "num=(1,2,2,3,4,5)\n",
    "print(num.count(2))\n",
    "print(num.index(4))\n",
    "\n",
    "\n",
    "# details\n",
    "student=(\"rohit\",17,\"siwan\")\n",
    "name,age,city=student\n",
    "print(name)\n",
    "print(age)\n",
    "print(city)\n"
   ]
  },
  {
   "cell_type": "markdown",
   "id": "25245957",
   "metadata": {},
   "source": [
    "8. LOOP"
   ]
  },
  {
   "cell_type": "markdown",
   "id": "1d65afe7",
   "metadata": {},
   "source": [
    "1. FOR LOOP"
   ]
  },
  {
   "cell_type": "code",
   "execution_count": 12,
   "id": "d6d5bea3",
   "metadata": {},
   "outputs": [
    {
     "name": "stdout",
     "output_type": "stream",
     "text": [
      "1\n",
      "2\n",
      "3\n",
      "4\n",
      "apple\n",
      "banana\n",
      "graps\n",
      "0\n",
      "1\n",
      "2\n",
      "3\n",
      "4\n"
     ]
    }
   ],
   "source": [
    "sequence=[1,2,3,4]\n",
    "for items in sequence:\n",
    "    print(items)\n",
    "\n",
    "\n",
    "fruits=['apple','banana','graps']\n",
    "for fruit in fruits:\n",
    "    print(fruit)\n",
    "\n",
    "for i in range(5):\n",
    "    print(i)"
   ]
  },
  {
   "cell_type": "markdown",
   "id": "8c566caa",
   "metadata": {},
   "source": [
    "2. WHILE LOOP"
   ]
  },
  {
   "cell_type": "code",
   "execution_count": 13,
   "id": "5abc8b02",
   "metadata": {},
   "outputs": [
    {
     "name": "stdout",
     "output_type": "stream",
     "text": [
      "0\n",
      "1\n",
      "2\n",
      "3\n",
      "4\n",
      "1\n",
      "2\n",
      "3\n",
      "4\n",
      "5\n"
     ]
    }
   ],
   "source": [
    "count=0\n",
    "while count<5:\n",
    "    print(count)\n",
    "    count+=1\n",
    "\n",
    "\n",
    "i=1\n",
    "while i<=10:\n",
    "   if i==6:\n",
    "    break\n",
    "   print(i)\n",
    "   i+=1"
   ]
  },
  {
   "cell_type": "markdown",
   "id": "9bf4a11c",
   "metadata": {},
   "source": [
    "3. loop control system"
   ]
  },
  {
   "cell_type": "code",
   "execution_count": 14,
   "id": "257db74c",
   "metadata": {},
   "outputs": [
    {
     "name": "stdout",
     "output_type": "stream",
     "text": [
      "0\n",
      "1\n",
      "2\n",
      "0\n",
      "1\n",
      "2\n",
      "4\n",
      "loop completed\n"
     ]
    }
   ],
   "source": [
    "# exit the loop\n",
    "for i in range(5):\n",
    "    if i==3:\n",
    "        break\n",
    "    print(i)\n",
    "\n",
    "# skip the element\n",
    "for i in range(5):\n",
    "    if i==3:\n",
    "        continue\n",
    "    print(i)\n",
    "\n",
    "else:\n",
    "    print(\"loop completed\")"
   ]
  },
  {
   "cell_type": "markdown",
   "id": "f7ecc2fb",
   "metadata": {},
   "source": [
    "9. OPERTIONS"
   ]
  },
  {
   "cell_type": "code",
   "execution_count": 15,
   "id": "46272714",
   "metadata": {},
   "outputs": [
    {
     "name": "stdout",
     "output_type": "stream",
     "text": [
      "value of x:8\n",
      "p and q:False\n",
      "p or q:True\n",
      "not p:False\n",
      "not q:True\n",
      "a is b:False\n",
      "a is c:True\n",
      "2 in numbers:True\n",
      "2 not in numbers:False\n",
      "6 in numbers:False\n",
      "6 not in numbers:True\n"
     ]
    }
   ],
   "source": [
    "a=5\n",
    "a+=3\n",
    "print(f\"value of x:{a}\")\n",
    "\n",
    "\n",
    "# logical\n",
    "p=True\n",
    "q=False\n",
    "print(f\"p and q:{p and q}\")\n",
    "print(f\"p or q:{p or q}\")\n",
    "print(f\"not p:{not p}\")\n",
    "print(f\"not q:{not q}\")\n",
    "\n",
    "\n",
    "# identify\n",
    "a=[1,2,3]\n",
    "b=[1,2,3]\n",
    "c=a\n",
    "print(f\"a is b:{a is b}\")\n",
    "print(f\"a is c:{a is c}\")\n",
    "\n",
    "\n",
    "# membership\n",
    "numbers=[1,2,3,4]\n",
    "print(f\"2 in numbers:{2 in numbers}\")\n",
    "print(f\"2 not in numbers:{2 not in numbers}\")\n",
    "print(f\"6 in numbers:{6 in numbers}\")\n",
    "print(f\"6 not in numbers:{6 not in numbers}\")\n"
   ]
  },
  {
   "cell_type": "markdown",
   "id": "0feec999",
   "metadata": {},
   "source": [
    "10. CONDITIONAL STATEMENTS"
   ]
  },
  {
   "cell_type": "code",
   "execution_count": 16,
   "id": "3855ce5d",
   "metadata": {},
   "outputs": [
    {
     "name": "stdout",
     "output_type": "stream",
     "text": [
      "Grade: D\n"
     ]
    }
   ],
   "source": [
    "grade=int(input(\"Enter your marks:\"))\n",
    "if grade>=90:\n",
    "    print(\" Grade: A\")\n",
    "elif grade>=80:\n",
    "    print(\"Grade: B\")\n",
    "elif grade>=75:\n",
    "    print(\"Grade: C\")\n",
    "else:\n",
    "    print(\"Grade: D\")"
   ]
  },
  {
   "cell_type": "markdown",
   "id": "76a74ad4",
   "metadata": {},
   "source": [
    "11. TRY AND EXCEPT STATEMENT"
   ]
  },
  {
   "cell_type": "code",
   "execution_count": 17,
   "id": "8c23eede",
   "metadata": {},
   "outputs": [
    {
     "name": "stdout",
     "output_type": "stream",
     "text": [
      "result: 1.0\n"
     ]
    }
   ],
   "source": [
    "try:\n",
    "    num=int(input(\"Enter number:\"))\n",
    "    result=10/num\n",
    "    print(\"result:\",result)\n",
    "except ZeroDivisionError:\n",
    "    print(\"error: division by zero\")\n",
    "except ValueError:\n",
    "    print(\"error:invalid input please enter valid number\")"
   ]
  },
  {
   "cell_type": "markdown",
   "id": "34273cd4",
   "metadata": {},
   "source": [
    "12. FUNCTIONS"
   ]
  },
  {
   "cell_type": "code",
   "execution_count": 18,
   "id": "a9e1d092",
   "metadata": {},
   "outputs": [
    {
     "name": "stdout",
     "output_type": "stream",
     "text": [
      "result: 8\n",
      "Good morning\n",
      "Good morning rohit\n"
     ]
    }
   ],
   "source": [
    "# function\n",
    "def greet():\n",
    "    print(\"Good morning\")\n",
    "\n",
    "def greet_user(name):\n",
    "    print(f\"Good morning {name}\")\n",
    "\n",
    "def add_number(a,b):\n",
    "    return a+b\n",
    "result=add_number(3,5)\n",
    "print(\"result:\",result)\n",
    "\n",
    "\n",
    "# call the function\n",
    "greet()\n",
    "greet_user(\"rohit\")"
   ]
  },
  {
   "cell_type": "markdown",
   "id": "ee28464d",
   "metadata": {},
   "source": [
    "13. FILE OPERATIONS"
   ]
  },
  {
   "cell_type": "code",
   "execution_count": 2,
   "id": "cab91397",
   "metadata": {},
   "outputs": [],
   "source": [
    "# # open file\n",
    "# file = open(\"filename.txt\", \"r\")   # \"r\" = read mode\n",
    "# # \"r\" → Read (default)\n",
    "\n",
    "# # \"w\" → Write (overwrites file if exists, else creates new)\n",
    "\n",
    "# # \"a\" → Append (writes at end of file)\n",
    "\n",
    "# # \"x\" → Create (fails if file exists)\n",
    "\n",
    "# # \"b\" → Binary mode (e.g., \"rb\", \"wb\")\n",
    "\n",
    "# # \"t\" → Text mode (default, e.g., \"rt\")\n",
    "\n",
    "\n",
    "\n",
    "# # Reading from a file\n",
    "# file = open(\"file name\", \"r\")\n",
    "# print(file.read())         # Read whole file\n",
    "# print(file.readline())     # Read one line\n",
    "# print(file.readlines())    # Read all lines into a list\n",
    "# file.close()\n",
    "\n",
    "\n",
    "# # using with statement\n",
    "# with open(\"file name\",\"r\") as file:\n",
    "#     content=file.read()\n",
    "#     print(content)\n",
    "\n",
    "\n",
    "# # read and write\n",
    "# with open(\"file name\",\"w\") as f:\n",
    "#     f.write(\"rohit\\n\")\n",
    "#     f.write(\"python developer\\n\")\n",
    "\n",
    "# with open(\"file name\",\"r\") as f:\n",
    "#     for line in f:\n",
    "#         print(line.strip())\n"
   ]
  },
  {
   "cell_type": "markdown",
   "id": "f133bf1e",
   "metadata": {},
   "source": [
    "14. OOPS"
   ]
  },
  {
   "cell_type": "markdown",
   "id": "723465fc",
   "metadata": {},
   "source": [
    "1. class and object"
   ]
  },
  {
   "cell_type": "code",
   "execution_count": null,
   "id": "f43ae139",
   "metadata": {},
   "outputs": [
    {
     "name": "stdout",
     "output_type": "stream",
     "text": [
      "Hello, my name is Rohit and I am 21 years old.\n"
     ]
    }
   ],
   "source": [
    "# Define a class\n",
    "class Person:\n",
    "    def __init__(self, name, age):  # constructor\n",
    "        self.name = name\n",
    "        self.age = age\n",
    "    \n",
    "    def greet(self):\n",
    "        print(f\"Hello, my name is {self.name} and I am {self.age} years old.\")\n",
    "\n",
    "# Create objects\n",
    "p1 = Person(\"Rohit\", 21)\n",
    "p1.greet()\n"
   ]
  },
  {
   "cell_type": "markdown",
   "id": "25c1a868",
   "metadata": {},
   "source": [
    "2. Encapsulation(Hiding Data)"
   ]
  },
  {
   "cell_type": "code",
   "execution_count": null,
   "id": "7348b7bd",
   "metadata": {},
   "outputs": [
    {
     "name": "stdout",
     "output_type": "stream",
     "text": [
      "1500\n"
     ]
    }
   ],
   "source": [
    "class BankAccount:\n",
    "    def __init__(self, balance):\n",
    "        self.__balance = balance   # private variable\n",
    "\n",
    "    def deposit(self, amount):\n",
    "        self.__balance += amount\n",
    "    \n",
    "    def get_balance(self):\n",
    "        return self.__balance\n",
    "\n",
    "acc = BankAccount(1000)\n",
    "acc.deposit(500)\n",
    "print(acc.get_balance())   # Correct way\n",
    "# print(acc.__balance)     # Error (private variable)\n"
   ]
  },
  {
   "cell_type": "markdown",
   "id": "17cfea7c",
   "metadata": {},
   "source": [
    "3. Inheritance(Reusing code)"
   ]
  },
  {
   "cell_type": "code",
   "execution_count": null,
   "id": "1e035fca",
   "metadata": {},
   "outputs": [
    {
     "name": "stdout",
     "output_type": "stream",
     "text": [
      "woof! woof!\n",
      "Meow!\n"
     ]
    }
   ],
   "source": [
    "class Animal:\n",
    "    def speak(self):\n",
    "        print(\"this is a Animal\")\n",
    "\n",
    "class Dog(Animal):\n",
    "    def speak(self):\n",
    "        print(\"woof! woof!\")\n",
    "\n",
    "class Cat(Animal):\n",
    "    def speak(self):\n",
    "        print(\"Meow!\")\n",
    "\n",
    "d=Dog()\n",
    "c=Cat()\n",
    "d.speak()\n",
    "c.speak()"
   ]
  },
  {
   "cell_type": "markdown",
   "id": "338f9f8b",
   "metadata": {},
   "source": [
    "4. Polymorphism"
   ]
  },
  {
   "cell_type": "code",
   "execution_count": null,
   "id": "32e35e7e",
   "metadata": {},
   "outputs": [
    {
     "name": "stdout",
     "output_type": "stream",
     "text": [
      "woof! woof!\n",
      "Meow!\n"
     ]
    }
   ],
   "source": [
    "class Dog(Animal):\n",
    "    def speak(self):\n",
    "        print(\"woof! woof!\")\n",
    "\n",
    "class Cat(Animal):\n",
    "    def speak(self):\n",
    "        print(\"Meow!\")\n",
    "\n",
    "for animal in [Dog(), Cat()]:\n",
    "    animal.speak()\n"
   ]
  },
  {
   "cell_type": "markdown",
   "id": "09e82ce4",
   "metadata": {},
   "source": [
    "5. Abstraction (Hiding Implementation using abc module)"
   ]
  },
  {
   "cell_type": "code",
   "execution_count": null,
   "id": "7c4c95f9",
   "metadata": {},
   "outputs": [
    {
     "name": "stdout",
     "output_type": "stream",
     "text": [
      "Area of square: 25\n"
     ]
    }
   ],
   "source": [
    "from abc import ABC, abstractmethod\n",
    "\n",
    "class Shape(ABC):   # Abstract class\n",
    "    @abstractmethod\n",
    "    def area(self):\n",
    "        pass\n",
    "\n",
    "class Square(Shape):\n",
    "    def __init__(self, side):\n",
    "        self.side = side\n",
    "    \n",
    "    def area(self):\n",
    "        return self.side * self.side\n",
    "\n",
    "sq = Square(5)\n",
    "print(\"Area of square:\", sq.area())\n"
   ]
  }
 ],
 "metadata": {
  "kernelspec": {
   "display_name": ".venv (3.13.1)",
   "language": "python",
   "name": "python3"
  },
  "language_info": {
   "codemirror_mode": {
    "name": "ipython",
    "version": 3
   },
   "file_extension": ".py",
   "mimetype": "text/x-python",
   "name": "python",
   "nbconvert_exporter": "python",
   "pygments_lexer": "ipython3",
   "version": "3.13.1"
  }
 },
 "nbformat": 4,
 "nbformat_minor": 5
}
